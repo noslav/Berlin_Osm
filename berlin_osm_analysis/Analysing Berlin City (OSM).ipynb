{
 "cells": [
  {
   "cell_type": "markdown",
   "metadata": {},
   "source": [
    "# Analysis of the Berlin City using Open Street Maps."
   ]
  },
  {
   "cell_type": "markdown",
   "metadata": {},
   "source": [
    "## The aim of this project is to extract, clean and present information from open street maps on Berlin, the capital of Germany (city I currently reside in)\n",
    "### 1. Data sets are extracted using the OSM overpass API and taking a custom measure of the geography of the Berlin city using the overview. \n",
    "### 2. Two data sets using .XML format are extracted a. of the inner city *20 mb* and b. Full city *600 mb* \n",
    "### 3. The process of extraction and process of cleaning is described below.\n"
   ]
  },
  {
   "cell_type": "markdown",
   "metadata": {},
   "source": [
    "Steps taken so far.\n",
    "    1. Createad a python file for looking at the data set \"Berlin_old2.osm\" this is a small 20 mb section of the old of city of berlin.\n",
    "    2. \"Berlin_osm.py\" is able to generate and export all the relavant details in 5 csv files.\n",
    "    3. I adapted the code from \" street_name_imp.py\" to make \"node\" & \"way\" dictionaries.\n",
    "    4. The dictionaries are then written to the CSV files names appropriately. \n",
    "    5. I am unsure what to do further. There are all kinds of details in all the files\n",
    "    6. Please help me out here to know what to do further... All the files are in the zip \"P4Berlin\" folder.\n",
    "    7. The additional files \"schema.py\" gives me the schema.\n",
    "    8. The osm files \"Berlin_old2.osm\" is the map.\n",
    "    9. \"Berlin_old2_OSM.xlsx\" contains data from all the files.\n",
    "    10. Some guidelines in the codes as comments or some *Coding hints would be really appreciated."
   ]
  },
  {
   "cell_type": "code",
   "execution_count": null,
   "metadata": {
    "collapsed": true
   },
   "outputs": [],
   "source": []
  }
 ],
 "metadata": {
  "anaconda-cloud": {},
  "kernelspec": {
   "display_name": "Python 2",
   "language": "python",
   "name": "python2"
  },
  "language_info": {
   "codemirror_mode": {
    "name": "ipython",
    "version": 2
   },
   "file_extension": ".py",
   "mimetype": "text/x-python",
   "name": "python",
   "nbconvert_exporter": "python",
   "pygments_lexer": "ipython2",
   "version": "2.7.12"
  }
 },
 "nbformat": 4,
 "nbformat_minor": 1
}
